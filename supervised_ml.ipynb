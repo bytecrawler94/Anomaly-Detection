{
 "cells": [
  {
   "cell_type": "code",
   "execution_count": 21,
   "id": "israeli-hardwood",
   "metadata": {},
   "outputs": [],
   "source": [
    "import pandas as pd\n",
    "import numpy as np"
   ]
  },
  {
   "cell_type": "code",
   "execution_count": 22,
   "id": "exciting-variable",
   "metadata": {},
   "outputs": [
    {
     "data": {
      "text/plain": [
       "Index(['V1', 'V2', 'V3', 'V4', 'V5', 'V6', 'V7', 'V8', 'V9', 'V10', 'V11',\n",
       "       'V12', 'V13', 'V14', 'V15', 'V16', 'V17', 'V18', 'V19', 'V20', 'V21',\n",
       "       'V22', 'V23', 'V24', 'V25', 'V26', 'V27', 'V28', 'Class'],\n",
       "      dtype='object')"
      ]
     },
     "execution_count": 22,
     "metadata": {},
     "output_type": "execute_result"
    }
   ],
   "source": [
    "train = pd.read_csv('cc_train.csv')\n",
    "test = pd.read_csv('cc_test.csv')\n",
    "train.columns"
   ]
  },
  {
   "cell_type": "code",
   "execution_count": 23,
   "id": "favorite-friendly",
   "metadata": {},
   "outputs": [],
   "source": [
    "x_train, y_train = train[train.columns[:-1]], train['Class']\n",
    "x_test, y_test = test[test.columns[:-1]], test['Class']"
   ]
  },
  {
   "cell_type": "code",
   "execution_count": 37,
   "id": "norman-centre",
   "metadata": {},
   "outputs": [],
   "source": [
    "from sklearn.tree import DecisionTreeClassifier\n",
    "from sklearn.ensemble import RandomForestClassifier\n",
    "from sklearn.model_selection import GridSearchCV\n",
    "\n",
    "from sklearn.metrics import classification_report,f1_score,precision_score,recall_score"
   ]
  },
  {
   "cell_type": "code",
   "execution_count": 25,
   "id": "dynamic-heading",
   "metadata": {},
   "outputs": [],
   "source": [
    "\n",
    "rfc=RandomForestClassifier(random_state=42)\n",
    "dtc=DecisionTreeClassifier(random_state=42)\n"
   ]
  },
  {
   "cell_type": "code",
   "execution_count": 26,
   "id": "seventh-benjamin",
   "metadata": {},
   "outputs": [
    {
     "data": {
      "text/plain": [
       "RandomForestClassifier(random_state=42)"
      ]
     },
     "execution_count": 26,
     "metadata": {},
     "output_type": "execute_result"
    }
   ],
   "source": [
    "rfc.fit(x_train,y_train)"
   ]
  },
  {
   "cell_type": "code",
   "execution_count": null,
   "id": "angry-opinion",
   "metadata": {},
   "outputs": [],
   "source": [
    "pred1=rfc.predict(x_test)"
   ]
  },
  {
   "cell_type": "code",
   "execution_count": 38,
   "id": "collaborative-nicholas",
   "metadata": {},
   "outputs": [
    {
     "name": "stdout",
     "output_type": "stream",
     "text": [
      "              precision    recall  f1-score   support\n",
      "\n",
      "           0       1.00      1.00      1.00     28432\n",
      "           1       0.95      0.80      0.87        49\n",
      "\n",
      "    accuracy                           1.00     28481\n",
      "   macro avg       0.98      0.90      0.93     28481\n",
      "weighted avg       1.00      1.00      1.00     28481\n",
      "\n",
      "0.9512195121951219 0.7959183673469388 0.8666666666666666\n"
     ]
    }
   ],
   "source": [
    "print(classification_report(y_test,pred1))\n",
    "print(precision_score(y_test,pred1),recall_score(y_test,pred1),f1_score(y_test,pred1))"
   ]
  },
  {
   "cell_type": "code",
   "execution_count": 33,
   "id": "gentle-complexity",
   "metadata": {},
   "outputs": [
    {
     "data": {
      "text/plain": [
       "DecisionTreeClassifier(random_state=42)"
      ]
     },
     "execution_count": 33,
     "metadata": {},
     "output_type": "execute_result"
    }
   ],
   "source": [
    "dtc.fit(x_train,y_train)"
   ]
  },
  {
   "cell_type": "code",
   "execution_count": 34,
   "id": "environmental-ordering",
   "metadata": {},
   "outputs": [],
   "source": [
    "pred2=dtc.predict(x_test)"
   ]
  },
  {
   "cell_type": "code",
   "execution_count": 39,
   "id": "korean-arbor",
   "metadata": {},
   "outputs": [
    {
     "name": "stdout",
     "output_type": "stream",
     "text": [
      "              precision    recall  f1-score   support\n",
      "\n",
      "           0       1.00      1.00      1.00     28432\n",
      "           1       0.76      0.78      0.77        49\n",
      "\n",
      "    accuracy                           1.00     28481\n",
      "   macro avg       0.88      0.89      0.88     28481\n",
      "weighted avg       1.00      1.00      1.00     28481\n",
      "\n",
      "0.76 0.7755102040816326 0.7676767676767676\n"
     ]
    }
   ],
   "source": [
    "print(classification_report(y_test,pred2))\n",
    "print(precision_score(y_test,pred2),recall_score(y_test,pred2),f1_score(y_test,pred2))"
   ]
  },
  {
   "cell_type": "code",
   "execution_count": null,
   "id": "alpine-field",
   "metadata": {},
   "outputs": [],
   "source": []
  },
  {
   "cell_type": "code",
   "execution_count": 44,
   "id": "extreme-emergency",
   "metadata": {},
   "outputs": [],
   "source": [
    "param_grid = { \n",
    "    'n_estimators': range(50,501,100),\n",
    "    'max_depth' : [4,8,12],\n",
    "}"
   ]
  },
  {
   "cell_type": "code",
   "execution_count": null,
   "id": "novel-victim",
   "metadata": {},
   "outputs": [],
   "source": [
    "rfc=RandomForestClassifier(random_state=42)\n",
    "CV_rfc = GridSearchCV(estimator=rfc, param_grid=param_grid, cv=5)\n",
    "\n",
    "CV_rfc.fit(x_train,y_train)\n",
    "\n",
    "print(CV_rfc.best_params_)"
   ]
  },
  {
   "cell_type": "code",
   "execution_count": null,
   "id": "american-antenna",
   "metadata": {},
   "outputs": [],
   "source": [
    "rfc1=RandomForestClassifier(CV_rfc.best_params_)\n",
    "rfc1.fit(x_train, y_train)\n",
    "pred=rfc1.predict(x_test)"
   ]
  },
  {
   "cell_type": "code",
   "execution_count": null,
   "id": "consistent-conversation",
   "metadata": {},
   "outputs": [],
   "source": [
    "print(classification_report(y_test,pred))"
   ]
  },
  {
   "cell_type": "code",
   "execution_count": null,
   "id": "automotive-vietnam",
   "metadata": {},
   "outputs": [],
   "source": []
  }
 ],
 "metadata": {
  "kernelspec": {
   "display_name": "Python 3",
   "language": "python",
   "name": "python3"
  }
 },
 "nbformat": 4,
 "nbformat_minor": 5
}
