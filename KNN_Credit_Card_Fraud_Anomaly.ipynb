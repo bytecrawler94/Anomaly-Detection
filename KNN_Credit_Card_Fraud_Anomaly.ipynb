{
  "nbformat": 4,
  "nbformat_minor": 0,
  "metadata": {
    "colab": {
      "provenance": []
    },
    "kernelspec": {
      "name": "python3",
      "display_name": "Python 3"
    },
    "language_info": {
      "name": "python"
    }
  },
  "cells": [
    {
      "cell_type": "code",
      "execution_count": 37,
      "metadata": {
        "id": "anfx89Hlw3Ag"
      },
      "outputs": [],
      "source": [
        "import numpy as np\n",
        "import pandas as pd\n",
        "from sklearn.neighbors import KNeighborsClassifier\n",
        "from sklearn.model_selection import train_test_split\n",
        "from sklearn.preprocessing import normalize\n",
        "from sklearn.metrics import confusion_matrix\n",
        "from sklearn.metrics import accuracy_score\n",
        "from sklearn.metrics import precision_score\n",
        "from sklearn.metrics import recall_score\n",
        "from sklearn.metrics import f1_score\n",
        "import time"
      ]
    },
    {
      "cell_type": "code",
      "source": [
        "from google.colab import drive\n",
        "drive.mount('/content/drive')"
      ],
      "metadata": {
        "colab": {
          "base_uri": "https://localhost:8080/"
        },
        "id": "k4Ngz5w21B6z",
        "outputId": "7253b1e7-3e53-447f-d445-50ac67844021"
      },
      "execution_count": 38,
      "outputs": [
        {
          "output_type": "stream",
          "name": "stdout",
          "text": [
            "Drive already mounted at /content/drive; to attempt to forcibly remount, call drive.mount(\"/content/drive\", force_remount=True).\n"
          ]
        }
      ]
    },
    {
      "cell_type": "code",
      "source": [
        "tic=time.time()\n",
        "full_data=pd.read_csv(\"sample_data/creditcard.csv\")\n",
        "\n",
        "#randomize the whole dataset\n",
        "full_data=full_data.sample(frac=1)\n",
        "full_data = full_data[np.isfinite(full_data).all(1)]\n",
        "# full_features=full_data.drop([\"Time\",\"Class\"],axis=1)\n",
        "full_features = full_data\n",
        "full_labels=pd.DataFrame(full_data[[\"Class\"]])\n",
        "full_features_array=full_features.values\n",
        "full_labels_array=full_labels.values\n",
        "\n",
        "# full_features_array = full_features_array[np.isfinite(full_features).all(1)]\n",
        "# full_labels_array = full_labels_array[np.isfinite(full_features).all(1)]\n",
        "# df_train_set = df_train_set[np.isfinite(df_train_set).all(1)]\n",
        "\n",
        "train_features,test_features,train_labels,test_labels = train_test_split(full_features_array, full_labels_array, train_size=0.90)\n",
        "\n",
        "train_features=normalize(train_features)\n",
        "test_features=normalize(test_features)"
      ],
      "metadata": {
        "id": "HOE7M_evxW8t"
      },
      "execution_count": 49,
      "outputs": []
    },
    {
      "cell_type": "code",
      "source": [
        "#k_nearest_neighbours_classification\n",
        "knn=KNeighborsClassifier(n_neighbors= 5,algorithm=\"kd_tree\",n_jobs=16)\n",
        "knn.fit(train_features,train_labels.ravel())\n",
        "knn_predicted_test_labels=knn.predict(test_features)"
      ],
      "metadata": {
        "id": "aQNkHXJO2Igv"
      },
      "execution_count": 50,
      "outputs": []
    },
    {
      "cell_type": "code",
      "source": [
        "#calculating confusion matrix for knn\n",
        "tn,fp,fn,tp = confusion_matrix(test_labels,knn_predicted_test_labels).ravel()"
      ],
      "metadata": {
        "colab": {
          "base_uri": "https://localhost:8080/",
          "height": 183
        },
        "id": "jdxbtF4d2o6S",
        "outputId": "d1035271-2324-4654-b36d-8558be06a91a"
      },
      "execution_count": 53,
      "outputs": [
        {
          "output_type": "error",
          "ename": "ValueError",
          "evalue": "ignored",
          "traceback": [
            "\u001b[0;31m---------------------------------------------------------------------------\u001b[0m",
            "\u001b[0;31mValueError\u001b[0m                                Traceback (most recent call last)",
            "\u001b[0;32m<ipython-input-53-f6c6cf303a29>\u001b[0m in \u001b[0;36m<module>\u001b[0;34m\u001b[0m\n\u001b[1;32m      1\u001b[0m \u001b[0;31m#calculating confusion matrix for knn\u001b[0m\u001b[0;34m\u001b[0m\u001b[0;34m\u001b[0m\u001b[0;34m\u001b[0m\u001b[0m\n\u001b[0;32m----> 2\u001b[0;31m \u001b[0mtn\u001b[0m\u001b[0;34m,\u001b[0m\u001b[0mfp\u001b[0m\u001b[0;34m,\u001b[0m\u001b[0mfn\u001b[0m\u001b[0;34m,\u001b[0m\u001b[0mtp\u001b[0m \u001b[0;34m=\u001b[0m \u001b[0mconfusion_matrix\u001b[0m\u001b[0;34m(\u001b[0m\u001b[0mtest_labels\u001b[0m\u001b[0;34m,\u001b[0m\u001b[0mknn_predicted_test_labels\u001b[0m\u001b[0;34m)\u001b[0m\u001b[0;34m.\u001b[0m\u001b[0mravel\u001b[0m\u001b[0;34m(\u001b[0m\u001b[0;34m)\u001b[0m\u001b[0;34m\u001b[0m\u001b[0;34m\u001b[0m\u001b[0m\n\u001b[0m",
            "\u001b[0;31mValueError\u001b[0m: not enough values to unpack (expected 4, got 1)"
          ]
        }
      ]
    },
    {
      "cell_type": "code",
      "source": [
        "#scoring knn\n",
        "knn_accuracy_score=accuracy_score(test_labels,knn_predicted_test_labels)\n",
        "knn_precison_score=precision_score(test_labels,knn_predicted_test_labels)\n",
        "knn_recall_score=recall_score(test_labels,knn_predicted_test_labels)\n",
        "knn_f1_score=f1_score(test_labels,knn_predicted_test_labels)"
      ],
      "metadata": {
        "id": "CkZxfdAWy4Nr",
        "colab": {
          "base_uri": "https://localhost:8080/"
        },
        "outputId": "5008f4b4-93ee-4986-973a-285c9b4d584f"
      },
      "execution_count": 51,
      "outputs": [
        {
          "output_type": "stream",
          "name": "stderr",
          "text": [
            "/usr/local/lib/python3.7/dist-packages/sklearn/metrics/_classification.py:1318: UndefinedMetricWarning: Precision is ill-defined and being set to 0.0 due to no predicted samples. Use `zero_division` parameter to control this behavior.\n",
            "  _warn_prf(average, modifier, msg_start, len(result))\n",
            "/usr/local/lib/python3.7/dist-packages/sklearn/metrics/_classification.py:1318: UndefinedMetricWarning: Recall is ill-defined and being set to 0.0 due to no true samples. Use `zero_division` parameter to control this behavior.\n",
            "  _warn_prf(average, modifier, msg_start, len(result))\n",
            "/usr/local/lib/python3.7/dist-packages/sklearn/metrics/_classification.py:1580: UndefinedMetricWarning: F-score is ill-defined and being set to 0.0 due to no true nor predicted samples. Use `zero_division` parameter to control this behavior.\n",
            "  _warn_prf(average, \"true nor predicted\", \"F-score is\", len(true_sum))\n"
          ]
        }
      ]
    },
    {
      "cell_type": "code",
      "source": [
        "#printing\n",
        "print(\"\")\n",
        "print(\"K-Nearest Neighbours\")\n",
        "# print(\"Confusion Matrix\")\n",
        "# print(\"tn =\",tn,\"fp =\",fp)\n",
        "# print(\"fn =\",fn,\"tp =\",tp)\n",
        "print(\"Scores\")\n",
        "print(\"Accuracy -->\",knn_accuracy_score)\n",
        "print(\"Precison -->\",knn_precison_score)\n",
        "print(\"Recall -->\",knn_recall_score)\n",
        "print(\"F1 -->\",knn_f1_score)"
      ],
      "metadata": {
        "colab": {
          "base_uri": "https://localhost:8080/"
        },
        "id": "uLaZW8rp3U0y",
        "outputId": "dddaa653-37c0-46bc-f1b6-eedc2816f994"
      },
      "execution_count": 52,
      "outputs": [
        {
          "output_type": "stream",
          "name": "stdout",
          "text": [
            "\n",
            "K-Nearest Neighbours\n",
            "Scores\n",
            "Accuracy --> 1.0\n",
            "Precison --> 0.0\n",
            "Recall --> 0.0\n",
            "F1 --> 0.0\n"
          ]
        }
      ]
    },
    {
      "cell_type": "code",
      "source": [
        "#time elapsed\n",
        "toc=time.time()\n",
        "elapsedtime=toc-tic\n",
        "print(\"\")\n",
        "print(\"Time Taken : \"+str(elapsedtime)+\"seconds\")"
      ],
      "metadata": {
        "colab": {
          "base_uri": "https://localhost:8080/"
        },
        "id": "IlwJUQlc3Wjd",
        "outputId": "e6be80ee-7423-4e6e-9a7d-9ed4fa20e9bb"
      },
      "execution_count": 44,
      "outputs": [
        {
          "output_type": "stream",
          "name": "stdout",
          "text": [
            "\n",
            "Time Taken : 0.24001550674438477seconds\n"
          ]
        }
      ]
    }
  ]
}