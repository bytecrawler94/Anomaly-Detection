{
  "nbformat": 4,
  "nbformat_minor": 0,
  "metadata": {
    "colab": {
      "provenance": []
    },
    "kernelspec": {
      "name": "python3",
      "display_name": "Python 3"
    },
    "language_info": {
      "name": "python"
    }
  },
  "cells": [
    {
      "cell_type": "code",
      "execution_count": 149,
      "metadata": {
        "id": "anfx89Hlw3Ag"
      },
      "outputs": [],
      "source": [
        "import numpy as np\n",
        "import pandas as pd\n",
        "from sklearn.neighbors import KNeighborsClassifier\n",
        "from sklearn.model_selection import train_test_split\n",
        "from sklearn.preprocessing import normalize\n",
        "from sklearn.metrics import confusion_matrix\n",
        "from sklearn.metrics import accuracy_score\n",
        "from sklearn.metrics import precision_score\n",
        "from sklearn.metrics import recall_score\n",
        "from sklearn.metrics import f1_score\n",
        "import time"
      ]
    },
    {
      "cell_type": "code",
      "source": [
        "from google.colab import drive\n",
        "drive.mount('/content/drive')"
      ],
      "metadata": {
        "colab": {
          "base_uri": "https://localhost:8080/"
        },
        "id": "k4Ngz5w21B6z",
        "outputId": "204ad72f-59f4-4a52-dddd-36a4f56c5a35"
      },
      "execution_count": 150,
      "outputs": [
        {
          "output_type": "stream",
          "name": "stdout",
          "text": [
            "Drive already mounted at /content/drive; to attempt to forcibly remount, call drive.mount(\"/content/drive\", force_remount=True).\n"
          ]
        }
      ]
    },
    {
      "cell_type": "code",
      "source": [
        "tic=time.time()\n",
        "full_data=pd.read_csv(\"sample_data/creditcard.csv\")\n",
        "\n",
        "#randomize the whole dataset\n",
        "full_data=full_data.sample(frac=1)\n",
        "full_data = full_data[np.isfinite(full_data).all(1)]\n",
        "# full_features=full_data.drop([\"Time\",\"Class\"],axis=1)\n",
        "full_features = full_data\n",
        "full_labels=pd.DataFrame(full_data[[\"Class\"]])\n",
        "full_features_array=full_features.values\n",
        "full_labels_array=full_labels.values\n",
        "\n",
        "# full_features_array = full_features_array[np.isfinite(full_features).all(1)]\n",
        "# full_labels_array = full_labels_array[np.isfinite(full_features).all(1)]\n",
        "\n",
        "train_features,test_features,train_labels,test_labels = train_test_split(full_features_array, full_labels_array, train_size=0.90)\n",
        "\n",
        "train_features=normalize(train_features)\n",
        "test_features=normalize(test_features)\n",
        "\n",
        "print(\"train labels shape: \", train_labels.shape)\n",
        "print(\"train features shape: \", train_features.shape, end='\\n\\n')\n",
        "\n",
        "print(\"test labels shape: \", test_labels.shape)\n",
        "print(\"test features shape: \", test_features.shape, end='\\n\\n')\n",
        "\n",
        "print(\"train features size: \", train_features.size)\n",
        "print(\"test features size: \", test_features.size)\n"
      ],
      "metadata": {
        "colab": {
          "base_uri": "https://localhost:8080/"
        },
        "id": "HOE7M_evxW8t",
        "outputId": "38f80d36-ae40-4585-8815-bb1ae0563cb7"
      },
      "execution_count": 151,
      "outputs": [
        {
          "output_type": "stream",
          "name": "stdout",
          "text": [
            "train labels shape:  (1786, 1)\n",
            "train features shape:  (1786, 31)\n",
            "\n",
            "test labels shape:  (199, 1)\n",
            "test features shape:  (199, 31)\n",
            "\n",
            "train features size:  55366\n",
            "test features size:  6169\n"
          ]
        }
      ]
    },
    {
      "cell_type": "code",
      "source": [
        "#k_nearest_neighbours_classification\n",
        "knn=KNeighborsClassifier(n_neighbors= 5,algorithm=\"kd_tree\",n_jobs=16)\n",
        "knn.fit(train_features,train_labels)\n",
        "knn_predicted_test_labels=knn.predict(test_features)\n",
        "\n",
        "# print(\"test_labels shape: \", test_labels.shape)\n",
        "# print(\"knn_predicted_test_labels shape: \", knn_predicted_test_labels.shape)\n",
        "\n",
        "print(\"before convertin to list-> test_labels[0]: \", test_labels[0])\n",
        "test_labels = list(test_labels)\n",
        "test_labels = [p[0] for p in test_labels]\n",
        "\n",
        "knn_predicted_test_labels = list(knn_predicted_test_labels)\n",
        "\n",
        "print(\"after convertin to list-> test_labels[0]: \", test_labels[0])\n",
        "print(\"knn_predicted_test_labels[0]: \", knn_predicted_test_labels[0], end='\\n\\n')\n",
        "print(\"test_labels len: \", len(test_labels))\n",
        "print(\"knn_predicted_test_labels len: \", len(knn_predicted_test_labels))\n",
        "\n"
      ],
      "metadata": {
        "colab": {
          "base_uri": "https://localhost:8080/"
        },
        "id": "aQNkHXJO2Igv",
        "outputId": "51277b43-a206-4cb4-a9cd-3a1cd62d8a58"
      },
      "execution_count": 152,
      "outputs": [
        {
          "output_type": "stream",
          "name": "stdout",
          "text": [
            "before convertin to list-> test_labels[0]:  [0.]\n",
            "after convertin to list-> test_labels[0]:  0.0\n",
            "knn_predicted_test_labels[0]:  0.0\n",
            "\n",
            "test_labels len:  199\n",
            "knn_predicted_test_labels len:  199\n"
          ]
        },
        {
          "output_type": "stream",
          "name": "stderr",
          "text": [
            "/usr/local/lib/python3.7/dist-packages/sklearn/neighbors/_classification.py:198: DataConversionWarning: A column-vector y was passed when a 1d array was expected. Please change the shape of y to (n_samples,), for example using ravel().\n",
            "  return self._fit(X, y)\n"
          ]
        }
      ]
    },
    {
      "cell_type": "code",
      "source": [
        "#calculating confusion matrix for knn\n",
        "# tn,fp,fn,tp = confusion_matrix(test_labels, knn_predicted_test_labels)\n",
        "# confusion_matrix_res = confusion_matrix(test_labels,knn_predicted_test_labels)\n",
        "# print(confusion_matrix_res)\n",
        "print(confusion_matrix(test_labels,knn_predicted_test_labels))"
      ],
      "metadata": {
        "colab": {
          "base_uri": "https://localhost:8080/"
        },
        "id": "jdxbtF4d2o6S",
        "outputId": "4b6c3b51-899f-4c38-985a-6e24ac7fc0d2"
      },
      "execution_count": 153,
      "outputs": [
        {
          "output_type": "stream",
          "name": "stdout",
          "text": [
            "[[199]]\n"
          ]
        }
      ]
    },
    {
      "cell_type": "code",
      "source": [
        "#scoring knn\n",
        "knn_accuracy_score=accuracy_score(test_labels,knn_predicted_test_labels)\n",
        "knn_precison_score=precision_score(test_labels,knn_predicted_test_labels)\n",
        "knn_recall_score=recall_score(test_labels,knn_predicted_test_labels)\n",
        "knn_f1_score=f1_score(test_labels,knn_predicted_test_labels)"
      ],
      "metadata": {
        "id": "CkZxfdAWy4Nr",
        "colab": {
          "base_uri": "https://localhost:8080/"
        },
        "outputId": "6a5f8a92-a661-4542-c4e0-0ed2bcd4bbb6"
      },
      "execution_count": 154,
      "outputs": [
        {
          "output_type": "stream",
          "name": "stderr",
          "text": [
            "/usr/local/lib/python3.7/dist-packages/sklearn/metrics/_classification.py:1318: UndefinedMetricWarning: Precision is ill-defined and being set to 0.0 due to no predicted samples. Use `zero_division` parameter to control this behavior.\n",
            "  _warn_prf(average, modifier, msg_start, len(result))\n",
            "/usr/local/lib/python3.7/dist-packages/sklearn/metrics/_classification.py:1318: UndefinedMetricWarning: Recall is ill-defined and being set to 0.0 due to no true samples. Use `zero_division` parameter to control this behavior.\n",
            "  _warn_prf(average, modifier, msg_start, len(result))\n",
            "/usr/local/lib/python3.7/dist-packages/sklearn/metrics/_classification.py:1580: UndefinedMetricWarning: F-score is ill-defined and being set to 0.0 due to no true nor predicted samples. Use `zero_division` parameter to control this behavior.\n",
            "  _warn_prf(average, \"true nor predicted\", \"F-score is\", len(true_sum))\n"
          ]
        }
      ]
    },
    {
      "cell_type": "code",
      "source": [
        "#printing\n",
        "print(\"\")\n",
        "print(\"K-Nearest Neighbours\")\n",
        "# print(\"Confusion Matrix\")\n",
        "# print(\"tn =\",tn,\"fp =\",fp)\n",
        "# print(\"fn =\",fn,\"tp =\",tp)\n",
        "print(\"Scores\")\n",
        "print(\"Accuracy -->\",knn_accuracy_score)\n",
        "print(\"Precison -->\",knn_precison_score)\n",
        "print(\"Recall -->\",knn_recall_score)\n",
        "print(\"F1 -->\",knn_f1_score)"
      ],
      "metadata": {
        "colab": {
          "base_uri": "https://localhost:8080/"
        },
        "id": "uLaZW8rp3U0y",
        "outputId": "574feddc-1d28-45ae-a81a-328d219b7f8c"
      },
      "execution_count": 155,
      "outputs": [
        {
          "output_type": "stream",
          "name": "stdout",
          "text": [
            "\n",
            "K-Nearest Neighbours\n",
            "Scores\n",
            "Accuracy --> 1.0\n",
            "Precison --> 0.0\n",
            "Recall --> 0.0\n",
            "F1 --> 0.0\n"
          ]
        }
      ]
    },
    {
      "cell_type": "code",
      "source": [
        "#time elapsed\n",
        "toc=time.time()\n",
        "elapsedtime=toc-tic\n",
        "print(\"\")\n",
        "print(\"Time Taken : \"+str(elapsedtime)+\"seconds\")"
      ],
      "metadata": {
        "colab": {
          "base_uri": "https://localhost:8080/"
        },
        "id": "IlwJUQlc3Wjd",
        "outputId": "3f47cbf1-6251-4611-c8d1-785998d4eff1"
      },
      "execution_count": 156,
      "outputs": [
        {
          "output_type": "stream",
          "name": "stdout",
          "text": [
            "\n",
            "Time Taken : 0.2504723072052002seconds\n"
          ]
        }
      ]
    }
  ]
}