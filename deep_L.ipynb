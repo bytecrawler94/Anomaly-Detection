{
 "cells": [
  {
   "cell_type": "code",
   "execution_count": 54,
   "id": "residential-score",
   "metadata": {},
   "outputs": [],
   "source": [
    "import pandas as pd\n",
    "import numpy as np"
   ]
  },
  {
   "cell_type": "code",
   "execution_count": 55,
   "id": "suburban-harvey",
   "metadata": {},
   "outputs": [
    {
     "data": {
      "text/plain": [
       "Index(['V1', 'V2', 'V3', 'V4', 'V5', 'V6', 'V7', 'V8', 'V9', 'V10', 'V11',\n",
       "       'V12', 'V13', 'V14', 'V15', 'V16', 'V17', 'V18', 'V19', 'V20', 'V21',\n",
       "       'V22', 'V23', 'V24', 'V25', 'V26', 'V27', 'V28', 'Class'],\n",
       "      dtype='object')"
      ]
     },
     "execution_count": 55,
     "metadata": {},
     "output_type": "execute_result"
    }
   ],
   "source": [
    "train = pd.read_csv('cc_train.csv')\n",
    "test = pd.read_csv('cc_test.csv')\n",
    "train.columns"
   ]
  },
  {
   "cell_type": "code",
   "execution_count": 56,
   "id": "scenic-documentation",
   "metadata": {},
   "outputs": [],
   "source": [
    "x_train, y_train = train[train.columns[:-1]], train['Class']\n",
    "x_test, y_test = test[test.columns[:-1]], test['Class']"
   ]
  },
  {
   "cell_type": "code",
   "execution_count": 57,
   "id": "organic-founder",
   "metadata": {},
   "outputs": [],
   "source": [
    "from sklearn.metrics import confusion_matrix,classification_report,precision_score,recall_score,f1_score\n",
    "import itertools\n",
    "from keras import metrics\n",
    "from keras.utils.np_utils import to_categorical # convert to one-hot-encoding\n",
    "from keras.models import Sequential\n",
    "from keras.layers import Dense, Dropout, Flatten, Conv2D, MaxPool2D\n",
    "from keras.optimizers import RMSprop,Adam\n",
    "from keras.preprocessing.image import ImageDataGenerator\n",
    "from keras.callbacks import ReduceLROnPlateau"
   ]
  },
  {
   "cell_type": "code",
   "execution_count": 58,
   "id": "electoral-grass",
   "metadata": {},
   "outputs": [
    {
     "name": "stderr",
     "output_type": "stream",
     "text": [
      "/home/ujjwalaananth/venv/lib/python3.8/site-packages/keras/optimizers/optimizer_v2/adam.py:114: UserWarning: The `lr` argument is deprecated, use `learning_rate` instead.\n",
      "  super().__init__(name, **kwargs)\n"
     ]
    }
   ],
   "source": [
    "model = Sequential()\n",
    "#\n",
    "model.add(Dense(28,activation = \"relu\"))\n",
    "model.add(Dropout(0.25))\n",
    "#\n",
    "model.add(Dense(16,activation = \"relu\"))\n",
    "model.add(Dropout(0.25))\n",
    "# fully connected\n",
    "model.add(Dense(256, activation = \"relu\"))\n",
    "model.add(Dropout(0.5))\n",
    "model.add(Dense(1, activation = \"softmax\"))\n",
    "\n",
    "optimizer = Adam(lr=0.001, beta_1=0.9, beta_2=0.999)"
   ]
  },
  {
   "cell_type": "code",
   "execution_count": 71,
   "id": "communist-processor",
   "metadata": {},
   "outputs": [],
   "source": [
    "model.compile(optimizer = optimizer , loss = \"binary_crossentropy\", metrics=[metrics.FalseNegatives()])\n",
    "## precision is usually low for imbalanced dataset\n",
    "epochs = 50  # for better result increase the epochs\n",
    "batch_size = 5000"
   ]
  },
  {
   "cell_type": "code",
   "execution_count": null,
   "id": "posted-shadow",
   "metadata": {},
   "outputs": [
    {
     "name": "stdout",
     "output_type": "stream",
     "text": [
      "Epoch 1/50\n",
      "52/52 [==============================] - 3s 47ms/step - loss: 0.0028 - false_negatives_1: 0.0000e+00\n",
      "Epoch 2/50\n",
      "52/52 [==============================] - 3s 49ms/step - loss: 0.0027 - false_negatives_1: 0.0000e+00\n",
      "Epoch 3/50\n",
      "52/52 [==============================] - 2s 39ms/step - loss: 0.0027 - false_negatives_1: 0.0000e+00\n",
      "Epoch 4/50\n",
      "52/52 [==============================] - 3s 49ms/step - loss: 0.0026 - false_negatives_1: 0.0000e+00\n",
      "Epoch 5/50\n",
      "52/52 [==============================] - 2s 40ms/step - loss: 0.0027 - false_negatives_1: 0.0000e+00\n",
      "Epoch 6/50\n",
      "52/52 [==============================] - 2s 39ms/step - loss: 0.0024 - false_negatives_1: 0.0000e+00\n",
      "Epoch 7/50\n",
      "52/52 [==============================] - 2s 38ms/step - loss: 0.0026 - false_negatives_1: 0.0000e+00\n",
      "Epoch 8/50\n",
      "52/52 [==============================] - 2s 35ms/step - loss: 0.0025 - false_negatives_1: 0.0000e+00\n",
      "Epoch 9/50\n",
      "52/52 [==============================] - 2s 36ms/step - loss: 0.0026 - false_negatives_1: 0.0000e+00\n",
      "Epoch 10/50\n",
      "52/52 [==============================] - 2s 34ms/step - loss: 0.0026 - false_negatives_1: 0.0000e+00\n",
      "Epoch 11/50\n",
      "52/52 [==============================] - 2s 44ms/step - loss: 0.0025 - false_negatives_1: 0.0000e+00\n",
      "Epoch 12/50\n",
      "52/52 [==============================] - 2s 46ms/step - loss: 0.0026 - false_negatives_1: 0.0000e+00\n",
      "Epoch 13/50\n",
      "52/52 [==============================] - 2s 38ms/step - loss: 0.0026 - false_negatives_1: 0.0000e+00\n",
      "Epoch 14/50\n",
      "52/52 [==============================] - 2s 41ms/step - loss: 0.0025 - false_negatives_1: 0.0000e+00\n",
      "Epoch 15/50\n",
      "52/52 [==============================] - 2s 47ms/step - loss: 0.0025 - false_negatives_1: 0.0000e+00\n",
      "Epoch 16/50\n",
      "52/52 [==============================] - 2s 37ms/step - loss: 0.0025 - false_negatives_1: 0.0000e+00\n",
      "Epoch 17/50\n",
      "52/52 [==============================] - 2s 35ms/step - loss: 0.0025 - false_negatives_1: 0.0000e+00\n",
      "Epoch 18/50\n",
      "52/52 [==============================] - 2s 30ms/step - loss: 0.0024 - false_negatives_1: 0.0000e+00\n",
      "Epoch 19/50\n",
      "52/52 [==============================] - 2s 41ms/step - loss: 0.0023 - false_negatives_1: 0.0000e+00\n",
      "Epoch 20/50\n",
      "52/52 [==============================] - 2s 29ms/step - loss: 0.0024 - false_negatives_1: 0.0000e+00\n",
      "Epoch 21/50\n",
      "52/52 [==============================] - 2s 36ms/step - loss: 0.0024 - false_negatives_1: 0.0000e+00\n",
      "Epoch 22/50\n",
      "52/52 [==============================] - 2s 35ms/step - loss: 0.0025 - false_negatives_1: 0.0000e+00\n",
      "Epoch 23/50\n",
      "52/52 [==============================] - 2s 42ms/step - loss: 0.0024 - false_negatives_1: 0.0000e+00\n",
      "Epoch 24/50\n",
      "52/52 [==============================] - 2s 43ms/step - loss: 0.0024 - false_negatives_1: 0.0000e+00\n",
      "Epoch 25/50\n",
      "52/52 [==============================] - 2s 38ms/step - loss: 0.0023 - false_negatives_1: 0.0000e+00\n",
      "Epoch 26/50\n",
      "52/52 [==============================] - 2s 39ms/step - loss: 0.0024 - false_negatives_1: 0.0000e+00\n",
      "Epoch 27/50\n",
      "52/52 [==============================] - 2s 39ms/step - loss: 0.0023 - false_negatives_1: 0.0000e+00\n",
      "Epoch 28/50\n",
      "52/52 [==============================] - 2s 35ms/step - loss: 0.0023 - false_negatives_1: 0.0000e+00\n",
      "Epoch 29/50\n",
      "52/52 [==============================] - 2s 35ms/step - loss: 0.0024 - false_negatives_1: 0.0000e+00\n",
      "Epoch 30/50\n",
      "52/52 [==============================] - 2s 44ms/step - loss: 0.0022 - false_negatives_1: 0.0000e+00\n",
      "Epoch 31/50\n",
      "52/52 [==============================] - 2s 42ms/step - loss: 0.0024 - false_negatives_1: 0.0000e+00\n",
      "Epoch 32/50\n",
      "52/52 [==============================] - 2s 43ms/step - loss: 0.0023 - false_negatives_1: 0.0000e+00\n",
      "Epoch 33/50\n",
      "52/52 [==============================] - 2s 39ms/step - loss: 0.0022 - false_negatives_1: 0.0000e+00\n",
      "Epoch 34/50\n",
      "52/52 [==============================] - 2s 35ms/step - loss: 0.0022 - false_negatives_1: 0.0000e+00\n",
      "Epoch 35/50\n",
      "52/52 [==============================] - 2s 39ms/step - loss: 0.0023 - false_negatives_1: 0.0000e+00\n",
      "Epoch 36/50\n",
      "52/52 [==============================] - 2s 39ms/step - loss: 0.0023 - false_negatives_1: 0.0000e+00\n",
      "Epoch 37/50\n",
      "52/52 [==============================] - 2s 41ms/step - loss: 0.0023 - false_negatives_1: 0.0000e+00\n",
      "Epoch 38/50\n",
      "52/52 [==============================] - 2s 34ms/step - loss: 0.0023 - false_negatives_1: 0.0000e+00\n",
      "Epoch 39/50\n",
      "52/52 [==============================] - 2s 35ms/step - loss: 0.0022 - false_negatives_1: 0.0000e+00\n",
      "Epoch 40/50\n",
      "52/52 [==============================] - 2s 36ms/step - loss: 0.0023 - false_negatives_1: 0.0000e+00\n",
      "Epoch 41/50\n",
      " 3/52 [>.............................] - ETA: 1s - loss: 0.0024 - false_negatives_1: 0.0000e+00"
     ]
    }
   ],
   "source": [
    "model.fit(x_train, y_train, epochs=epochs, batch_size=batch_size, verbose=1)"
   ]
  },
  {
   "cell_type": "code",
   "execution_count": null,
   "id": "friendly-speaking",
   "metadata": {},
   "outputs": [],
   "source": [
    "model.summary()"
   ]
  },
  {
   "cell_type": "code",
   "execution_count": null,
   "id": "accepting-administrator",
   "metadata": {},
   "outputs": [],
   "source": [
    "x_train.shape"
   ]
  },
  {
   "cell_type": "code",
   "execution_count": null,
   "id": "finite-bleeding",
   "metadata": {},
   "outputs": [],
   "source": [
    "pred = model.predict(x_test,verbose=1,batch_size=batch_size)\n",
    "print(pred.shape)\n",
    "pred = [1 if p>=0.5 else 0 for p in pred]\n",
    "print(pred[0:5])"
   ]
  },
  {
   "cell_type": "code",
   "execution_count": null,
   "id": "characteristic-speaker",
   "metadata": {},
   "outputs": [],
   "source": [
    "y_test.shape"
   ]
  },
  {
   "cell_type": "code",
   "execution_count": null,
   "id": "proved-athens",
   "metadata": {},
   "outputs": [],
   "source": [
    "pd.Series(pred).value_counts()"
   ]
  },
  {
   "cell_type": "code",
   "execution_count": null,
   "id": "blocked-house",
   "metadata": {},
   "outputs": [],
   "source": [
    "print(classification_report(y_test,pred))\n",
    "print(precision_score(y_test,pred),recall_score(y_test,pred),f1_score(y_test,pred))"
   ]
  },
  {
   "cell_type": "code",
   "execution_count": null,
   "id": "headed-philip",
   "metadata": {},
   "outputs": [],
   "source": []
  },
  {
   "cell_type": "code",
   "execution_count": null,
   "id": "relevant-anniversary",
   "metadata": {},
   "outputs": [],
   "source": []
  }
 ],
 "metadata": {
  "kernelspec": {
   "display_name": "Python 3",
   "language": "python",
   "name": "python3"
  },
  "language_info": {
   "codemirror_mode": {
    "name": "ipython",
    "version": 3
   },
   "file_extension": ".py",
   "mimetype": "text/x-python",
   "name": "python",
   "nbconvert_exporter": "python",
   "pygments_lexer": "ipython3",
   "version": "3.8.5"
  }
 },
 "nbformat": 4,
 "nbformat_minor": 5
}
